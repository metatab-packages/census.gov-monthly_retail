{
 "cells": [
  {
   "cell_type": "code",
   "execution_count": 1,
   "metadata": {},
   "outputs": [],
   "source": [
    "import seaborn as sns\n",
    "import metapack as mp\n",
    "import pandas as pd\n",
    "import numpy as np\n",
    "import matplotlib.pyplot as plt\n",
    "from IPython.display import display \n",
    "\n",
    "%matplotlib inline\n",
    "sns.set_context('notebook')\n",
    "mp.jupyter.init()\n"
   ]
  },
  {
   "cell_type": "code",
   "execution_count": 2,
   "metadata": {},
   "outputs": [
    {
     "data": {
      "text/html": [
       "<h1>Monthly Retail Trade Report</h1>\n",
       "<p><code>census.gov-monthly_retail-1.1.1</code> Last Update: 2020-05-19T16:07:31</p>\n",
       "<p><em>Retail and Food Service sales volume, by months, since 1992</em></p>\n",
       "<h2>Documentation Links</h2>\n",
       "<ul>\n",
       "<li><a href=\"https://www.census.gov/retail/index.html\">homepage</a> Dataset home page</li>\n",
       "</ul>\n",
       "<h2>Contacts</h2>\n",
       "<ul>\n",
       "<li><strong>Wrangler</strong> <a href=\"mailto:eric@civicknowledge.com\">Eric Busboom</a>, <a href=\"http://civicknowledge.com\">Civic Knowledge</a></li>\n",
       "</ul>\n",
       "<h2>Resources</h2>\n",
       "<ul>\n",
       "<li><strong> <a href=\"notebooks/Extract.ipynb#adj\">marts_adjusted</a></strong>. Monthly retail sales, adjusted</li>\n",
       "<li><strong> <a href=\"notebooks/Extract.ipynb#nadj\">marts_non_adjusted</a></strong>. Monthly retail sales, non adjusted</li>\n",
       "</ul>\n",
       "<h2>References</h2>\n",
       "<p><ul><li> <strong><a href=\"https://www.census.gov/retail/mrts/www/mrtssales92-present.xls\">marts_source</a></strong>. Retail and Food Service Sales spreadsheet</li><ul></p>"
      ],
      "text/plain": [
       "# Monthly Retail Trade Report\n",
       "`census.gov-monthly_retail-1.1.1` Last Update: 2020-05-19T16:07:31\n",
       "\n",
       "_Retail and Food Service sales volume, by months, since 1992_\n",
       "\n",
       "\n",
       "## Documentation Links\n",
       "\n",
       "* [homepage](https://www.census.gov/retail/index.html) Dataset home page\n",
       "\n",
       " \n",
       "\n",
       "## Contacts\n",
       "\n",
       "* **Wrangler** [Eric Busboom](mailto:eric@civicknowledge.com), [Civic Knowledge](http://civicknowledge.com)\n",
       "\n",
       "## Resources\n",
       "\n",
       "* ** [marts_adjusted](notebooks/Extract.ipynb#adj)**. Monthly retail sales, adjusted\n",
       "* ** [marts_non_adjusted](notebooks/Extract.ipynb#nadj)**. Monthly retail sales, non adjusted\n",
       "\n",
       "## References\n",
       "<ul><li> <strong><a href=\"https://www.census.gov/retail/mrts/www/mrtssales92-present.xls\">marts_source</a></strong>. Retail and Food Service Sales spreadsheet</li><ul>\n"
      ]
     },
     "execution_count": 2,
     "metadata": {},
     "output_type": "execute_result"
    }
   ],
   "source": [
    "#pkg = mp.jupyter.open_package()\n",
    "pkg = mp.jupyter.open_source_package()\n",
    "pkg"
   ]
  },
  {
   "cell_type": "code",
   "execution_count": 3,
   "metadata": {},
   "outputs": [
    {
     "data": {
      "text/plain": [
       "'https://www.census.gov/retail/mrts/www/mrtssales92-present.xls'"
      ]
     },
     "execution_count": 3,
     "metadata": {},
     "output_type": "execute_result"
    }
   ],
   "source": [
    "s = pkg.reference('marts_source').url\n",
    "s"
   ]
  },
  {
   "cell_type": "code",
   "execution_count": null,
   "metadata": {},
   "outputs": [],
   "source": []
  },
  {
   "cell_type": "code",
   "execution_count": 4,
   "metadata": {},
   "outputs": [],
   "source": [
    "def marts_split(url, sheet):\n",
    "    \n",
    "    \n",
    "    df = pd.read_excel(s, sheet_name=sheet, skiprows=4)\n",
    "    df.columns = ['naics','category'] + list(df.columns)[2:]\n",
    "\n",
    "    \n",
    "    groups = [ [], [] ] # Adjusted and Not adjusted\n",
    "    group_n = None\n",
    "    \n",
    "    for idx, row in df.iterrows():\n",
    "        if str(row.category).startswith('NOT ADJUSTED'):\n",
    "            group_n = 0\n",
    "        elif str(row.category).startswith('ADJUSTED'):\n",
    "            group_n = 1\n",
    "        elif isinstance(row.naics, str):\n",
    "            try: # All all of the parts numbers?\n",
    "                _ = [int(v) for v in str(row.naics).split(',')]\n",
    "            except ValueError:\n",
    "                group_n = None\n",
    "            \n",
    "            \n",
    "            \n",
    "        if group_n is not None:\n",
    "            groups[group_n].append(row)\n",
    "        \n",
    "    adj = pd.DataFrame(groups[0]).set_index(['naics','category']).stack().to_frame('sales')\n",
    "    nadj = pd.DataFrame(groups[1]).set_index(['naics','category']).stack().to_frame('sales')  \n",
    "        \n",
    "    return ( adj,nadj )\n",
    "            \n",
    "\n",
    "\n"
   ]
  },
  {
   "cell_type": "code",
   "execution_count": 5,
   "metadata": {},
   "outputs": [],
   "source": [
    "adj_frames = []\n",
    "nadj_frames = []\n",
    "\n",
    "for i in range(50):\n",
    "    try:\n",
    "        adj, nadj = marts_split(s, i)\n",
    "\n",
    "        adj_frames.append(adj)\n",
    "        nadj_frames.append(nadj)\n",
    "    except IndexError:\n",
    "        break\n",
    "    \n"
   ]
  },
  {
   "cell_type": "code",
   "execution_count": null,
   "metadata": {},
   "outputs": [],
   "source": []
  },
  {
   "cell_type": "code",
   "execution_count": 6,
   "metadata": {},
   "outputs": [
    {
     "data": {
      "text/html": [
       "<div>\n",
       "<style scoped>\n",
       "    .dataframe tbody tr th:only-of-type {\n",
       "        vertical-align: middle;\n",
       "    }\n",
       "\n",
       "    .dataframe tbody tr th {\n",
       "        vertical-align: top;\n",
       "    }\n",
       "\n",
       "    .dataframe thead th {\n",
       "        text-align: right;\n",
       "    }\n",
       "</style>\n",
       "<table border=\"1\" class=\"dataframe\">\n",
       "  <thead>\n",
       "    <tr style=\"text-align: right;\">\n",
       "      <th></th>\n",
       "      <th></th>\n",
       "      <th></th>\n",
       "      <th>sales</th>\n",
       "    </tr>\n",
       "    <tr>\n",
       "      <th>naics</th>\n",
       "      <th>category</th>\n",
       "      <th></th>\n",
       "      <th></th>\n",
       "    </tr>\n",
       "  </thead>\n",
       "  <tbody>\n",
       "    <tr>\n",
       "      <th rowspan=\"5\" valign=\"top\">NaN</th>\n",
       "      <th rowspan=\"5\" valign=\"top\">Retail and food services sales, total</th>\n",
       "      <th>Jan. 1992</th>\n",
       "      <td>146376</td>\n",
       "    </tr>\n",
       "    <tr>\n",
       "      <th>Feb. 1992</th>\n",
       "      <td>147079</td>\n",
       "    </tr>\n",
       "    <tr>\n",
       "      <th>Mar. 1992</th>\n",
       "      <td>159336</td>\n",
       "    </tr>\n",
       "    <tr>\n",
       "      <th>Apr. 1992</th>\n",
       "      <td>163669</td>\n",
       "    </tr>\n",
       "    <tr>\n",
       "      <th>May 1992</th>\n",
       "      <td>170068</td>\n",
       "    </tr>\n",
       "  </tbody>\n",
       "</table>\n",
       "</div>"
      ],
      "text/plain": [
       "                                                        sales\n",
       "naics category                                               \n",
       "NaN   Retail and food services sales, total Jan. 1992  146376\n",
       "                                            Feb. 1992  147079\n",
       "                                            Mar. 1992  159336\n",
       "                                            Apr. 1992  163669\n",
       "                                            May 1992   170068"
      ]
     },
     "execution_count": 6,
     "metadata": {},
     "output_type": "execute_result"
    }
   ],
   "source": [
    "t = adj.copy()\n",
    "\n",
    "t.head()"
   ]
  },
  {
   "cell_type": "code",
   "execution_count": 17,
   "metadata": {},
   "outputs": [],
   "source": [
    "import datetime \n",
    "def parse_dates(v):\n",
    "    try:\n",
    "        return datetime.datetime.strptime(v.replace('(p)','').replace('.','')\n",
    "                                    , '%b %Y')\n",
    "    except ValueError:\n",
    "        return None\n",
    "\n",
    "def set_cypy(v):\n",
    "    if 'CY' in v or 'TOTAL' in v:\n",
    "        return 'CY'\n",
    "    elif 'PY' in v:\n",
    "        return 'PY'\n",
    "    elif '(p)' in v:\n",
    "        return 'PM'\n",
    "    else:\n",
    "        return 'M'\n",
    "    \n",
    "def set_cypy_date(r):\n",
    "    if r.flag == 'CY' :\n",
    "        return pd.Timestamp(f\"{r.year}-01-01\")\n",
    "    elif r.flag == 'PY':\n",
    "        return pd.Timestamp(f\"{r.year-1}-01-01\")\n",
    "\n",
    "def post_process(t):\n",
    "    \n",
    "    t = t.reset_index().rename(columns={'level_2':'dt_str'})\n",
    "    \n",
    "    t['date'] = t.dt_str.apply(parse_dates)\n",
    "    t['year'] = pd.to_numeric((t.date.dt.year).fillna(method='ffill')).astype(int)\n",
    "    t['month'] = pd.to_numeric(t.date.dt.month, errors='coerce')\n",
    "    t['flag'] = t.dt_str.apply(set_cypy)\n",
    "\n",
    "    t['sales'] = pd.to_numeric(t.sales, errors='coerce')\n",
    "    \n",
    "    i  = t[t.date.isnull()].index\n",
    "\n",
    "    t.loc[i, 'date'] = t.loc[i].apply(set_cypy_date, axis=1)\n",
    "    \n",
    "    return t\n",
    "\n",
    "adj = post_process(pd.concat(adj_frames))\n",
    "adj = adj[['naics', 'category', 'date',  'year', 'month',  'sales', 'flag']]\n",
    "adj['sales'] = adj.sales * 1_000_000\n",
    "\n",
    "nadj = post_process(pd.concat(nadj_frames))\n",
    "nadj = nadj[['naics', 'category', 'date',  'year', 'month',  'sales', 'flag']]\n",
    "nadj['sales'] = nadj.sales * 1_000_000\n"
   ]
  },
  {
   "cell_type": "code",
   "execution_count": null,
   "metadata": {},
   "outputs": [],
   "source": []
  }
 ],
 "metadata": {
  "kernelspec": {
   "display_name": "Python 3",
   "language": "python",
   "name": "python3"
  },
  "language_info": {
   "codemirror_mode": {
    "name": "ipython",
    "version": 3
   },
   "file_extension": ".py",
   "mimetype": "text/x-python",
   "name": "python",
   "nbconvert_exporter": "python",
   "pygments_lexer": "ipython3",
   "version": "3.6.9"
  }
 },
 "nbformat": 4,
 "nbformat_minor": 4
}
